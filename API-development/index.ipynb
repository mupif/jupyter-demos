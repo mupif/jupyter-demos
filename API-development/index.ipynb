{
 "cells": [
  {
   "cell_type": "markdown",
   "metadata": {},
   "source": [
    "# Model API Development\n",
    "\n",
    "## Content\n",
    "* Model metadata explained\n",
    "* Generating API template from metedata\n",
    "* Example of model API implementation\n"
   ]
  }
 ],
 "metadata": {
  "language_info": {
   "name": "python"
  },
  "orig_nbformat": 4
 },
 "nbformat": 4,
 "nbformat_minor": 2
}
