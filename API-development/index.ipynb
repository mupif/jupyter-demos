{
 "cells": [
  {
   "cell_type": "markdown",
   "metadata": {},
   "source": [
    "<img src=\"../Introduction/img/ctulogo.png\" style=\"height:80px;\"> \n",
    "<img src=\"../Introduction/img/mupiflogo.png\" style=\"height:80px;\">\n",
    "<img src=\"../Introduction/img/musicodelogo.png\" style=\"float:right;height:80px;\">\n",
    "\n",
    "# Model API Development\n",
    "\n",
    "## Content\n",
    "* Model metadata explained\n",
    "* Generating API template from metedata\n",
    "* Example of model API implementation\n",
    "\n"
   ]
  },
  {
   "cell_type": "markdown",
   "metadata": {},
   "source": [
    "## Model metadata explained\n",
    "\n",
    "Model metadata contain description of the model. The metadata structure and format is defined by JSON schema (see model.py for full referece).\n",
    "* Basic metadata (model name, id, version, description)\n",
    "* Metadata describing physics behing the model\n",
    "* Metadata describing solver (how the equations are solved)\n",
    "* Metadata defining input and output parameters of the model\n",
    "\n",
    "### Example of Model metadata\n",
    "<pre><code>\n",
    "MD = {\n",
    "    \"Name\": \"Stationary thermal problem\",\n",
    "    \"ID\": \"Thermo-1\",\n",
    "    \"Description\": \"Stationary heat conduction using finite elements on rectangular domain\",\n",
    "    \"Version_date\": \"1.0.0, Feb 2019\",\n",
    "    \"Geometry\": \"2D rectangle\",\n",
    "    \"Boundary_conditions\": \"Dirichlet, Neumann\",\n",
    "    <font color=\"red\">Inputs\"</font>: [\n",
    "        {\n",
    "            \"Name\": \"edge temperature\",\n",
    "            \"Type\": \"mupif.Property\",\n",
    "            \"Required\": False,\n",
    "            \"Type_ID\": \"mupif.DataID.PID_Temperature\",\n",
    "            \"Units\": \"degC\",\n",
    "            \"Obj_ID\": [\n",
    "                \"Cauchy top\",\n",
    "                \"Cauchy bottom\",\n",
    "                \"Cauchy left\",\n",
    "                \"Cauchy right\",\n",
    "                \"Dirichlet top\",\n",
    "                \"Dirichlet bottom\",\n",
    "                \"Dirichlet left\",\n",
    "                \"Dirichlet right\"\n",
    "            ],\n",
    "            \"Set_at\": \"timestep\",\n",
    "            \"ValueType\": \"Scalar\"\n",
    "        },\n",
    "        {\n",
    "            \"Name\": \"Input file\",\n",
    "            \"Type\": \"mupif.PyroFile\",\n",
    "            \"Required\": True,\n",
    "            \"Type_ID\": \"mupif.DataID.ID_InputFile\",\n",
    "            \"Obj_ID\": \"input_file_thermal\",\n",
    "            \"Set_at\": \"initialization\",\n",
    "            \"Units\": \"none\"\n",
    "        }\n",
    "    ],\n",
    "    <font color=\"red\">\"Outputs\"</font>: [\n",
    "        {\n",
    "            \"Name\": \"temperature\",\n",
    "            \"Type_ID\": \"mupif.DataID.FID_Temperature\",\n",
    "            \"Type\": \"mupif.Field\",\n",
    "            \"Required\": False,\n",
    "            \"Units\": \"degC\"\n",
    "        }\n",
    "    ],\n",
    "    <font color=\"red\">\"Solver\"</font>: {\n",
    "        \"Software\": \"own\",\n",
    "        \"Type\": \"Finite elements\",\n",
    "        \"Accuracy\": \"Medium\",\n",
    "        \"Sensitivity\": \"Low\",\n",
    "        \"Complexity\": \"Low\",\n",
    "        \"Robustness\": \"High\",\n",
    "        \"Estim_time_step_s\": 1,\n",
    "        \"Estim_comp_time_s\": 1.e-3,\n",
    "        \"Estim_execution_cost_EUR\": 0.01,\n",
    "        \"Estim_personnel_cost_EUR\": 0.01,\n",
    "        \"Required_expertise\": \"None\",\n",
    "        \"Language\": \"Python\",\n",
    "        \"License\": \"LGPL\",\n",
    "        \"Creator\": \"Borek Patzak\",\n",
    "        \"Version_date\": \"1.0.0, Feb 2019\",\n",
    "        \"Documentation\": \"Felippa: Introduction to finite element methods, 2004\",\n",
    "    },\n",
    "    <font color=\"red\">\"Physics\"</font>: {\n",
    "        \"Type\": \"Continuum\",\n",
    "        \"Entity\": \"Finite volume\",\n",
    "        \"Equation\": [\"Heat balance\"],\n",
    "        \"Equation_quantities\": [\"Heat flow\"],\n",
    "        \"Relation_description\": [\"Fick's first law\"],\n",
    "        \"Relation_formulation\": [\"Flow induced by thermal gradient on isotropic material\"],\n",
    "        \"Representation\": \"Finite volumes\"\n",
    "    },\n",
    "    \"Execution\": {\n",
    "        'ID': '0',\n",
    "        'Use_case_ID': '0',\n",
    "        'Task_ID': '0'\n",
    "    }\n",
    "}\n",
    "</code></pre>"
   ]
  },
  {
   "cell_type": "code",
   "execution_count": null,
   "metadata": {},
   "outputs": [],
   "source": []
  },
  {
   "cell_type": "markdown",
   "metadata": {},
   "source": [
    "&copy; CTU Team, 2021."
   ]
  }
 ],
 "metadata": {
  "kernelspec": {
   "display_name": "Python 3.8.10 64-bit",
   "language": "python",
   "name": "python3"
  },
  "language_info": {
   "codemirror_mode": {
    "name": "ipython",
    "version": 3
   },
   "file_extension": ".py",
   "mimetype": "text/x-python",
   "name": "python",
   "nbconvert_exporter": "python",
   "pygments_lexer": "ipython3",
   "version": "3.8.10"
  },
  "orig_nbformat": 4,
  "vscode": {
   "interpreter": {
    "hash": "916dbcbb3f70747c44a77c7bcd40155683ae19c65e1c03b4aa3499c5328201f1"
   }
  }
 },
 "nbformat": 4,
 "nbformat_minor": 2
}
