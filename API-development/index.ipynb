{
 "cells": [
  {
   "cell_type": "markdown",
   "metadata": {},
   "source": [
    "<img src=\"../Introduction/img/ctulogo.png\" style=\"height:80px;\"> \n",
    "<img src=\"../Introduction/img/mupiflogo.png\" style=\"height:80px;\">\n",
    "<img src=\"../Introduction/img/musicodelogo.png\" style=\"float:right;height:80px;\">\n",
    "\n",
    "# MuPIF Model API Development training \n",
    "\n",
    "## Content\n",
    "* <a href=\"modelAPI_Intro.ipynb\"> MuPIF Model API Introduction </a> \n",
    "* <a href=\"modelAPI_Implementation.ipynb\">Implementing Model API by example</a>\n",
    "* <a href=\"modelAPI_Depoyment.ipynb\">Model deployment</a>\n",
    "\n"
   ]
  },
  {
   "cell_type": "markdown",
   "metadata": {},
   "source": [
    "&copy; CTU Team, 2021."
   ]
  }
 ],
 "metadata": {
  "kernelspec": {
   "display_name": "Python 3.8.10 64-bit",
   "language": "python",
   "name": "python3"
  },
  "language_info": {
   "codemirror_mode": {
    "name": "ipython",
    "version": 3
   },
   "file_extension": ".py",
   "mimetype": "text/x-python",
   "name": "python",
   "nbconvert_exporter": "python",
   "pygments_lexer": "ipython3",
   "version": "3.8.10"
  },
  "orig_nbformat": 4,
  "vscode": {
   "interpreter": {
    "hash": "916dbcbb3f70747c44a77c7bcd40155683ae19c65e1c03b4aa3499c5328201f1"
   }
  }
 },
 "nbformat": 4,
 "nbformat_minor": 2
}
