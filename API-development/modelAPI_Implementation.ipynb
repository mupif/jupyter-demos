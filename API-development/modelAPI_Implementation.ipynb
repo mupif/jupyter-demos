{
 "cells": [
  {
   "cell_type": "markdown",
   "metadata": {},
   "source": [
    "# Model API Development\n",
    "\n",
    "## Content\n",
    "* Demo problem description\n",
    "* Generating API template from metedata\n",
    "* Example of model API implementation\n"
   ]
  },
  {
   "cell_type": "markdown",
   "metadata": {},
   "source": [
    "## Sample problem\n",
    "We will use thermo-mechanical analysis of cantilever beam as an example.\n",
    "\n",
    "<img src=\"../Introduction/img/thermomechanicalModa.png\">\n",
    "\n",
    "Where heat conduction and thermo-elastic models are served by the third-party solver. We will focus here on API development for mechanical solver using indirect approach.\n",
    "First step is to define model metadata.\n",
    "\n",
    "### Define model metadata \n",
    "### Generate API template\n",
    "### API implementation\n",
    "### Testing the developped API "
   ]
  },
  {
   "cell_type": "markdown",
   "metadata": {},
   "source": [
    "&copy; CTU Team, 2021."
   ]
  }
 ],
 "metadata": {
  "kernelspec": {
   "display_name": "Python 3.8.10 64-bit",
   "language": "python",
   "name": "python3"
  },
  "language_info": {
   "name": "python",
   "version": "3.8.10"
  },
  "orig_nbformat": 4,
  "vscode": {
   "interpreter": {
    "hash": "916dbcbb3f70747c44a77c7bcd40155683ae19c65e1c03b4aa3499c5328201f1"
   }
  }
 },
 "nbformat": 4,
 "nbformat_minor": 2
}
