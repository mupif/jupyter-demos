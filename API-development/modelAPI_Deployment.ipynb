{
 "cells": [
  {
   "cell_type": "markdown",
   "metadata": {},
   "source": [
    "# Distributed model and Model deployment\n",
    "\n",
    "MuPIF allows to communicate with remote objects in the same way as with local ones. This is possible thanks to its underlying communication layer.\n",
    "\n",
    "When we want to deploy the model to provide its services remotely, we nned following\n",
    "* yellow book, where models can register to be discoverable - this is served by Nameserver MuPIF service.\n",
    "* service that allocates a model instance when needed - for each model this is provided by JobManager.\n",
    "\n",
    "JobManager is service, that typically runs permanently and allocates new model instance on suitable resource. This service need to be set up and run for each model. \n",
    "\n",
    "In our scenario, we assume there is a server available, where model instances will be executed and that will also run JobManager.\n",
    "To deploy model on a server we need folowwing steps:\n",
    "* Get access to a sever\n",
    "* Install model on a server\n",
    "* Update model metadata to indicate model remote deployment\n",
    "* Run jobManager service \n",
    "\n",
    "## Updating model metadata to indicate model remote deployment\n",
    "<pre>\n",
    " \"Execution_settings\": {\n",
    "        \"Type\": \"Distributed\",\n",
    "        \"jobManName\": \"OOFEM_Thermal_demo\",\n",
    "        \"Class\": \"OOFEM_T_demo\",\n",
    "        \"Module\": \"oofem_demo_thermal\"\n",
    "    }\n",
    "</pre>\n",
    "\n",
    "## Run jobmanager service\n",
    "\n",
    "<pre>\n",
    "import oofem_demo_thermal\n",
    "\n",
    "ns = mp.pyroutil.connectNameserver()\n",
    "mp.SimpleJobManager(\n",
    "    ns=ns,\n",
    "    appClass=oofem_demo_thermal.OOFEM_T_demo,\n",
    "    appName='OOFEM_Thermal_demo',\n",
    "    maxJobs=10,\n",
    "    includeFiles=['t.in']\n",
    ").runServer()\n",
    "\n",
    "</pre>\n"
   ]
  }
 ],
 "metadata": {
  "kernelspec": {
   "display_name": "Python 3.8.10 64-bit",
   "language": "python",
   "name": "python3"
  },
  "language_info": {
   "codemirror_mode": {
    "name": "ipython",
    "version": 3
   },
   "file_extension": ".py",
   "mimetype": "text/x-python",
   "name": "python",
   "nbconvert_exporter": "python",
   "pygments_lexer": "ipython3",
   "version": "3.8.10"
  },
  "orig_nbformat": 4,
  "vscode": {
   "interpreter": {
    "hash": "916dbcbb3f70747c44a77c7bcd40155683ae19c65e1c03b4aa3499c5328201f1"
   }
  }
 },
 "nbformat": 4,
 "nbformat_minor": 2
}
