{
 "cells": [
  {
   "cell_type": "markdown",
   "metadata": {},
   "source": [
    "# Distributed model and Model deployment\n",
    "\n",
    "MuPIF allows to communicate with remote objects in the same way as with local ones. This is possible thanks to its underlying communication layer.\n",
    "\n",
    "When we want to deploy the model to provide its services remotely, we nned following\n",
    "* yellow book, where models can register to be discoverable - this is served by Nameserver MuPIF service.\n",
    "* service that allocates a model instance when needed - for each model this is provided by JobManager.\n",
    "\n",
    "JobManager is service, that typically runs permanently and allocates new model instance on suitable resource. This service need to be set up and run for each model. \n",
    "\n",
    "In our scenario, we assume there is a server available, where model instances will be executed and that will also run JobManager.\n",
    "To deploy model on a server we need folowwing steps:\n",
    "* Get access to a sever\n",
    "* Install model on a server\n",
    "* Update model metadata to indicate model remote deployment\n",
    "* Run jobManager service \n",
    "\n",
    "## Updating model metadata to indicate model remote deployment\n",
    "```json\n",
    "\"Execution_settings\": {\n",
    "    \"Type\": \"Distributed\",\n",
    "    \"jobManName\": \"CVUT.Thermal_demo\",\n",
    "    \"Class\": \"MUPIF_T_demo\",\n",
    "    \"Module\": \"mupif_demo_thermal\"\n",
    "}\n",
    "```\n",
    "\n",
    "## Run jobmanager service\n",
    "The following script must be run with system variables specifying the MuPIF nameserver, such as:\n",
    "\n",
    "```MUPIF_NS=172.22.2.1:10000 python runJobman.py```\n",
    "\n",
    "\n",
    "Content of runJobman.py:\n",
    "```python\n",
    "import mupif_demo_thermal\n",
    "\n",
    "ns = mupif.pyroutil.connectNameserver()\n",
    "jobMan = mupif.SimpleJobManager(\n",
    "    ns=ns,\n",
    "    appClass=mupif_demo_thermal.MUPIF_T_demo,\n",
    "    appName='CVUT.Thermal_demo',\n",
    "    maxJobs=10,\n",
    "    includeFiles=['inp_mupif_thermal.in']\n",
    ").runServer()\n",
    "```\n"
   ]
  }
 ],
 "metadata": {
  "kernelspec": {
   "display_name": "Python 3.8.10 64-bit",
   "language": "python",
   "name": "python3"
  },
  "language_info": {
   "codemirror_mode": {
    "name": "ipython",
    "version": 3
   },
   "file_extension": ".py",
   "mimetype": "text/x-python",
   "name": "python",
   "nbconvert_exporter": "python",
   "pygments_lexer": "ipython3",
   "version": "3.8.10"
  },
  "orig_nbformat": 4,
  "vscode": {
   "interpreter": {
    "hash": "916dbcbb3f70747c44a77c7bcd40155683ae19c65e1c03b4aa3499c5328201f1"
   }
  }
 },
 "nbformat": 4,
 "nbformat_minor": 2
}
