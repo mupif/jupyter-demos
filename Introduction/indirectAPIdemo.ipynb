{
 "cells": [
  {
   "cell_type": "markdown",
   "id": "delayed-wright",
   "metadata": {},
   "source": [
    "<img src=\"img/mupiflogo.png\" style=\"float:right;height:80px;\">\n",
    "\n",
    "# Example illustrating indirect API implementation\n",
    "Indirect API implementation is suitable for closed source codes without any programming interface, so what is typically available is just an executable model and its I/O specification. \n",
    "\n",
    "The approach consists of developping API implementation that internally remembers all the inputs (by capturing the API set calls), executing the application itself, and finally parsing the application output to get required quantities, that are later accesible using get API method.\n",
    "\n",
    "The example below ilustrates the concept on developping a MuPIF API to determine some characteristics (minimum, maximum and average value) of a spatial field. We would like to use externall app (represented by externalapp.py) that on standard input reads a sequence of numbers (one per line), computes their min, max, and average values and prints these characteristics on output. \n",
    "\n",
    "We achieve this by sampling the field at evenly spaced positions and sending the obtained values to external app (rectangular domain is assumed)."
   ]
  },
  {
   "cell_type": "code",
   "execution_count": 1,
   "id": "attended-manor",
   "metadata": {},
   "outputs": [],
   "source": [
    "# local machine only\n",
    "import sys\n",
    "sys.path.append('/home/bp/devel/mupif.git')\n",
    "sys.path.append('.')\n",
    "\n",
    "import mupif as mp\n",
    "import models"
   ]
  },
  {
   "cell_type": "markdown",
   "id": "convertible-hunter",
   "metadata": {},
   "source": [
    "## API implementation\n",
    "* Model API is a python class derived from mupif Model class\n",
    "* API has to definine required metadata, defined by Model metadata schema \n",
    "\n",
    "### Concept of indirect API implementation\n",
    " <img src=\"img/indirectAPI1.png\" alt=\"Indirect API concept\" style=\"width: 600px;\"/>"
   ]
  },
  {
   "cell_type": "code",
   "execution_count": 9,
   "id": "entertaining-nitrogen",
   "metadata": {},
   "outputs": [],
   "source": [
    "import mupif\n",
    "import numpy as np\n",
    "import subprocess\n",
    "class myAPI(mupif.model.Model):\n",
    "    \"\"\"\n",
    "    Simple application that computes the arithmetical average of mapped property using an external code\n",
    "    \"\"\"\n",
    "    def __init__(self, metadata={}):\n",
    "        if len(metadata) == 0:\n",
    "            metadata = {\n",
    "                'Name': 'My application API',\n",
    "                'ID': 'MyApp 1.0',\n",
    "                'Description': 'Computes some characteristic of a field',\n",
    "                'Version_date': '1.0.0, Feb 2019',\n",
    "                'Geometry': '2D rectangle',\n",
    "                'Inputs': [\n",
    "                    {\n",
    "                        'Name': 'scalar field',\n",
    "                        'Type': 'mupif.Field',\n",
    "                        'Required': True,\n",
    "                        'Type_ID': 'mupif.DataID.PID_Temperature',\n",
    "                    }\n",
    "                ],\n",
    "                'Outputs': [\n",
    "                    {\n",
    "                        'Name': 'min',\n",
    "                        'Type_ID': 'mupif.DataID.PID_Demo_Min',\n",
    "                        'Type': 'mupif.Property',\n",
    "                        'Required': False\n",
    "                    },\n",
    "                    {\n",
    "                        'Name': 'max',\n",
    "                        'Type_ID': 'mupif.DataID.PID_FieldID.FID_Temperature',\n",
    "                        'Type': 'mupif.Property',\n",
    "                        'Required': False\n",
    "                    },\n",
    "                    {\n",
    "                        'Name': 'average',\n",
    "                        'Type_ID': 'mupif.DataID.PID_Demo_Value',\n",
    "                        'Type': 'mupif.Property',\n",
    "                        'Required': False\n",
    "                    }\n",
    "                ],\n",
    "                'Solver': {\n",
    "                    'Software': 'own',\n",
    "                    'Type': 'none',\n",
    "                    'Accuracy': 'Medium',\n",
    "                    'Sensitivity': 'Low',\n",
    "                    'Complexity': 'Low',\n",
    "                    'Robustness': 'High',\n",
    "                    'Estim_time_step_s': 1,\n",
    "                    'Estim_comp_time_s': 1.e-3,\n",
    "                    'Estim_execution_cost_EUR': 0.01,\n",
    "                    'Estim_personnel_cost_EUR': 0.01,\n",
    "                    'Required_expertise': 'None',\n",
    "                    'Language': 'Python',\n",
    "                    'License': 'LGPL',\n",
    "                    'Creator': 'Borek Patzak',\n",
    "                    'Version_date': '1.0.0, Feb 2019',\n",
    "                    'Documentation': 'none',\n",
    "                },\n",
    "                'Physics': {\n",
    "                    'Type': 'Continuum',\n",
    "                    'Entity': ['Finite volume'],\n",
    "                    'Equation': ['none'],\n",
    "                    'Equation_quantities': ['Temperature'],\n",
    "                    'Relation_description': [],\n",
    "                    'Relation_formulation': [],\n",
    "                    'Representation': ''\n",
    "                }\n",
    "            }\n",
    "        super().__init__(metadata=metadata)\n",
    "        self.min = None\n",
    "        self.max = None\n",
    "        self.average = None\n",
    "        self.field = None\n",
    "    def get(self, propID, time, objectID=0):\n",
    "        if (propID == mupif.DataID.PID_Demo_Min):\n",
    "           return mupif.property.ConstantProperty(value=self.min, propID=mupif.DataID.PID_Demo_Min, valueType=mupif.ValueType.Scalar, unit=mupif.U['K'])\n",
    "        elif (propID == mupif.DataID.PID_Demo_Max):\n",
    "           return mupif.property.ConstantProperty(value=self.max, propID=mupif.DataID.PID_Demo_Max, valueType=mupif.ValueType.Scalar, unit=mupif.U['K'])\n",
    "        elif (propID == mupif.DataID.PID_Demo_Value):\n",
    "           return mupif.property.ConstantProperty(value=self.average, propID=mupif.DataID.PID_Demo_Value, valueType=mupif.ValueType.Scalar, unit=mupif.U['K'])\n",
    "        else:\n",
    "           raise mupif.APIError.APIError ('Unknown property ID')\n",
    "    def set(self, field, objectID=0):\n",
    "        if (field.getFieldID() == mupif.DataID.FID_Temperature):\n",
    "            # remember the mapped value\n",
    "            self.field = field\n",
    "        else:\n",
    "            raise mupif.APIError.APIError ('Unknown field ID')\n",
    "    def solveStep(self, tstep, stageID=0, runInBackground=False):\n",
    "        try:\n",
    "            if (self.field):\n",
    "                input = \"\"\n",
    "                for x in np.linspace(0,5,20):\n",
    "                    for y in np.linspace(0,1,5):\n",
    "                        input+=repr(self.field.evaluate((x,y,0)).getValue()[0])\n",
    "                        input +=\"\\n\"\n",
    "        except Exception as e:\n",
    "            raise mupif.APIError.ApiError ('Field evaluation failed') from e\n",
    "            \n",
    "        try:\n",
    "            # We create the first subprocess, note that we need stdin=PIPE and stdout=PIPE\n",
    "            p1 = subprocess.Popen(['python3', 'externalApp.py'], stdin=subprocess.PIPE, stdout=subprocess.PIPE)\n",
    "\n",
    "            # We immediately run the first subprocess and get the result\n",
    "            # Note that we encode the data, otherwise we'd get a TypeError\n",
    "            p1_out = p1.communicate(input=input.encode())\n",
    "        except Exception as e:\n",
    "            raise mupif.APIError.APIError ('Subprocess execution failed') from e\n",
    "        \n",
    "        tokens=p1_out[0].split()\n",
    "        self.min = float(tokens[0])\n",
    "        self.max = float(tokens[1])\n",
    "        self.average = float(tokens[2])"
   ]
  },
  {
   "cell_type": "markdown",
   "id": "human-volume",
   "metadata": {},
   "source": [
    "## Using the API"
   ]
  },
  {
   "cell_type": "code",
   "execution_count": 11,
   "id": "noted-anaheim",
   "metadata": {},
   "outputs": [
    {
     "name": "stderr",
     "output_type": "stream",
     "text": [
      "WARNING: UnitsWarning: 'W/m/K' contains multiple slashes, which is discouraged by the FITS standard [astropy.units.format.generic]\n",
      "22:13:39 [1992|MainThread] WARNING:logger.py:211 UnitsWarning: 'W/m/K' contains multiple slashes, which is discouraged by the FITS standard\n",
      "100%|██████████| 40/40 [00:00<00:00, 14041.86 cells/s]"
     ]
    },
    {
     "name": "stdout",
     "output_type": "stream",
     "text": [
      "Field min: 7.142857142857024 K{DataID.PID_Demo_Min,ValueType.Scalar}@None\n",
      "Field max: 42.85714285714274 K{DataID.PID_Demo_Max,ValueType.Scalar}@None\n",
      "Field average: 24.99999999999975 K{DataID.PID_Demo_Value,ValueType.Scalar}@None\n"
     ]
    },
    {
     "name": "stderr",
     "output_type": "stream",
     "text": [
      "\n"
     ]
    }
   ],
   "source": [
    "ts = models.ThermalModel()\n",
    "m2 = myAPI()\n",
    "\n",
    "ts.initialize('inputT.in')\n",
    "bc1 = mp.ConstantProperty(propID=mp.DataID.PID_Temperature, valueType=mp.ValueType.Scalar, value=(50,), unit=mp.U['K'])\n",
    "bc2 = mp.ConstantProperty(propID=mp.DataID.PID_Temperature, valueType=mp.ValueType.Scalar, value=(0,), unit=mp.U['K'])\n",
    "ts.set(bc1, 'Cauchy left')\n",
    "ts.set(bc2, 'Cauchy right')\n",
    "ts.solveStep(mp.TimeStep(time=0,dt=.1,targetTime=1.,unit=mp.U.s))\n",
    "# show the field\n",
    "f=ts.get(mp.DataID.FID_Temperature,time=1.*mp.Q.s)\n",
    "\n",
    "m2.set (f)\n",
    "m2.solveStep(mp.TimeStep(time=0,dt=.1,targetTime=1.,unit=mp.U.s))\n",
    "print(\"Field min:\", m2.get(mp.DataID.PID_Demo_Min,time=1.*mp.Q.s))\n",
    "print(\"Field max:\", m2.get(mp.DataID.PID_Demo_Max,time=1.*mp.Q.s))\n",
    "print(\"Field average:\", m2.get(mp.DataID.PID_Demo_Value,time=1.*mp.Q.s))\n",
    "\n"
   ]
  },
  {
   "cell_type": "markdown",
   "metadata": {},
   "source": [
    "## Notes on Distributed case \n",
    "\n",
    "<img src=\"img/remoteAPI.png\">\n",
    "\n",
    "* The permanent service to allocate new API instances is needed (see mupif.JobManager and mupif.SimpleJobManager). It provides following functionality:\n",
    "   * allocation and preallocation of new API instances (when resources available)\n",
    "   * management of API instances (monitoring and managing individual instances)\n",
    "\n",
    "* The JobMnager has to register itself to platform Nameserver to allow its discovery.\n",
    "* Typically, the JobManager and API instances (and API executions) are hosted on the same resource\n",
    " \n",
    "### Remarks to HPC applications\n",
    "* The execution should be made via HPC scheduling subsystem\n",
    "* The API solveStep method should prepare the HPC job, schedule the job and waits for its completion\n",
    "* We will provide (later) generic support for HPC connectivity, but initial implementation can be developped using specific HPC interface in mind. \n",
    "* The JobManager and API instances should run on separate resource with access to HPC !"
   ]
  },
  {
   "cell_type": "markdown",
   "id": "welsh-harris",
   "metadata": {},
   "source": [
    "## Recommendations\n",
    "\n",
    "The real case should perform extensive error checking\n",
    "* Checking the execution status of external app\n",
    "* Checking if compulsory parameters were set, etc\n",
    "* Make sure the application is correctly terminated and resources dealocated \n",
    "* ...\n"
   ]
  },
  {
   "cell_type": "code",
   "execution_count": null,
   "id": "exact-centre",
   "metadata": {},
   "outputs": [],
   "source": []
  }
 ],
 "metadata": {
  "kernelspec": {
   "display_name": "Python 3.8.10 64-bit",
   "language": "python",
   "name": "python3"
  },
  "language_info": {
   "codemirror_mode": {
    "name": "ipython",
    "version": 3
   },
   "file_extension": ".py",
   "mimetype": "text/x-python",
   "name": "python",
   "nbconvert_exporter": "python",
   "pygments_lexer": "ipython3",
   "version": "3.8.10"
  },
  "vscode": {
   "interpreter": {
    "hash": "916dbcbb3f70747c44a77c7bcd40155683ae19c65e1c03b4aa3499c5328201f1"
   }
  }
 },
 "nbformat": 4,
 "nbformat_minor": 5
}
