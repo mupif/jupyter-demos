{
 "cells": [
  {
   "cell_type": "markdown",
   "id": "paperback-hormone",
   "metadata": {},
   "source": [
    "<img src=\"img/mupiflogo.png\" style=\"float:right;height:80px;\">\n",
    "\n",
    "# Interactive stationary thermo-mechanical workflow \n",
    "- Ilustrates how to use model APIs\n",
    "- Ilustrates the use of data components (Properties and Fields)\n",
    "- Shows how to combine these concepts and create first workflow\n",
    "\n",
    "<img src=\"img/thermomechanicalModa.png\" alt=\"Problem MODA\" style=\"width: 600px;\"/>\n",
    "\n",
    "# Problem\n",
    "*  Rectangular domain (l = 5, h = 1 [m])\n",
    "*  boundary conditions (Dirichlet, Newton) can be applied on model edges\n",
    "\n",
    "Edge numbering:\n",
    "<pre>\n",
    "     ----------3----------  \n",
    "     |                   |  \n",
    "     4                   2  \n",
    "     |                   |  \n",
    "     ----------1---------  \n",
    "</pre>"
   ]
  },
  {
   "cell_type": "code",
   "execution_count": 1,
   "id": "fabulous-insight",
   "metadata": {},
   "outputs": [],
   "source": [
    "# local machine only\n",
    "import sys\n",
    "sys.path.append('/home/bp/devel/mupif.git')\n",
    "\n",
    "import matplotlib\n",
    "# make figures larger\n",
    "#matplotlib.rcParams['figure.figsize']=(20,20)\n",
    "\n",
    "# this is ugly\n",
    "# examples are not part of the mupif module now, thus are copied locally, should be re-considered\n",
    "sys.path.append('.')\n",
    "import models"
   ]
  },
  {
   "cell_type": "code",
   "execution_count": 2,
   "id": "discrete-variance",
   "metadata": {},
   "outputs": [],
   "source": [
    "import mupif as mp"
   ]
  },
  {
   "cell_type": "markdown",
   "id": "adverse-frederick",
   "metadata": {},
   "source": [
    " ### Create instances of individual models and get some info about them\n",
    " Here we create local instances of both models. To connect to a remote instance a different procedure is needed (and requires the connection information)"
   ]
  },
  {
   "cell_type": "code",
   "execution_count": 3,
   "id": "working-mississippi",
   "metadata": {},
   "outputs": [
    {
     "name": "stderr",
     "output_type": "stream",
     "text": [
      "WARNING: UnitsWarning: 'W/m/K' contains multiple slashes, which is discouraged by the FITS standard [astropy.units.format.generic]\n",
      "16:40:42 [1704|MainThread] WARNING:logger.py:211 UnitsWarning: 'W/m/K' contains multiple slashes, which is discouraged by the FITS standard\n"
     ]
    },
    {
     "data": {
      "text/plain": [
       "'Stationary thermal-demo-solver, ver 1.0'"
      ]
     },
     "execution_count": 3,
     "metadata": {},
     "output_type": "execute_result"
    }
   ],
   "source": [
    "thermalSolver = models.ThermalModel()\n",
    "thermalSolver.getApplicationSignature()"
   ]
  },
  {
   "cell_type": "code",
   "execution_count": 4,
   "id": "occupied-packaging",
   "metadata": {},
   "outputs": [
    {
     "data": {
      "text/plain": [
       "'Mechanical-demo-solver, ver 1.0'"
      ]
     },
     "execution_count": 4,
     "metadata": {},
     "output_type": "execute_result"
    }
   ],
   "source": [
    "mechanicalSolver = models.MechanicalModel()\n",
    "mechanicalSolver.getApplicationSignature()"
   ]
  },
  {
   "cell_type": "markdown",
   "id": "musical-template",
   "metadata": {},
   "source": [
    "### Initialize both model instances, by using *initialize* method, passing required input file  "
   ]
  },
  {
   "cell_type": "code",
   "execution_count": 5,
   "id": "romantic-oklahoma",
   "metadata": {},
   "outputs": [],
   "source": [
    "\n",
    "thermalSolver.initialize()\n",
    "#thermalInputFile = mp.PyroFile(filename='inputT.in', mode=\"rb\", dataID=mp.DataID.ID_InputFile)\n",
    "#thermalSolver.set(thermalInputFile)\n",
    "mechanicalSolver.initialize()\n",
    "#mechanicalInputFile = mp.PyroFile(filename='inputM2.in', mode=\"rb\", dataID=mp.DataID.ID_InputFile)\n",
    "#mechanicalSolver.set(mechanicalInputFile)"
   ]
  },
  {
   "cell_type": "markdown",
   "id": "furnished-quantum",
   "metadata": {},
   "source": [
    "### Explore the Model Inputs/Outputs\n",
    "\n",
    "The model metadata contain many useful information. \n",
    "- The model inputs are documented as metadata and can be retrieved using 'Input' key\n",
    "- The model outputs can be retrieved using 'Output' key"
   ]
  },
  {
   "cell_type": "code",
   "execution_count": 6,
   "id": "laughing-cotton",
   "metadata": {},
   "outputs": [
    {
     "data": {
      "text/plain": [
       "[{'Name': 'edge temperature',\n",
       "  'Type': 'mupif.Property',\n",
       "  'Required': False,\n",
       "  'Type_ID': 'mupif.DataID.PID_Temperature',\n",
       "  'Units': 'degC',\n",
       "  'Obj_ID': ['Cauchy top',\n",
       "   'Cauchy bottom',\n",
       "   'Cauchy left',\n",
       "   'Cauchy right',\n",
       "   'Dirichlet top',\n",
       "   'Dirichlet bottom',\n",
       "   'Dirichlet left',\n",
       "   'Dirichlet right'],\n",
       "  'Set_at': 'timestep',\n",
       "  'ValueType': 'Scalar'},\n",
       " {'Name': 'Input file',\n",
       "  'Type': 'mupif.PyroFile',\n",
       "  'Required': True,\n",
       "  'Type_ID': 'mupif.DataID.ID_InputFile',\n",
       "  'Obj_ID': 'input_file_thermal',\n",
       "  'Set_at': 'initialization',\n",
       "  'Units': 'none'}]"
      ]
     },
     "execution_count": 6,
     "metadata": {},
     "output_type": "execute_result"
    }
   ],
   "source": [
    "thermalSolver.getMetadata('Inputs')"
   ]
  },
  {
   "cell_type": "code",
   "execution_count": 7,
   "id": "sufficient-church",
   "metadata": {},
   "outputs": [
    {
     "data": {
      "text/plain": [
       "[{'Name': 'temperature',\n",
       "  'Type_ID': 'mupif.DataID.FID_Temperature',\n",
       "  'Type': 'mupif.Field',\n",
       "  'Required': False,\n",
       "  'Units': 'degC'}]"
      ]
     },
     "execution_count": 7,
     "metadata": {},
     "output_type": "execute_result"
    }
   ],
   "source": [
    "thermalSolver.getMetadata('Outputs')"
   ]
  },
  {
   "cell_type": "markdown",
   "id": "engaging-nothing",
   "metadata": {},
   "source": [
    "### Set some inputs\n",
    "The model inputs can be set using *set* service. It accepts a supported data type instance (which knows its physical meaning) and optional object_id\n",
    "- we first create properties to represent boundary conditions\n",
    "- then use *set* method to apply these to different edges (identified using object_id)"
   ]
  },
  {
   "cell_type": "code",
   "execution_count": 8,
   "id": "accepting-construction",
   "metadata": {},
   "outputs": [],
   "source": [
    "bc1 = mp.ConstantProperty(propID=mp.DataID.PID_Temperature, valueType=mp.ValueType.Scalar, value=(50,), unit=mp.U['K'])\n",
    "bc2 = mp.ConstantProperty(propID=mp.DataID.PID_Temperature, valueType=mp.ValueType.Scalar, value=(20,), unit=mp.U['K'])\n",
    "#thermalSolver.set(bc1, 'Cauchy top')\n",
    "thermalSolver.set(bc1, 'Dirichlet top')\n",
    "thermalSolver.set(bc2, 'Dirichlet bottom')"
   ]
  },
  {
   "cell_type": "markdown",
   "id": "level-hudson",
   "metadata": {},
   "source": [
    "### Solve the thermal problem\n",
    "- use *solveStep* method to solve the problem for the given time step"
   ]
  },
  {
   "cell_type": "code",
   "execution_count": 9,
   "id": "stock-disco",
   "metadata": {},
   "outputs": [],
   "source": [
    "# solve \n",
    "thermalSolver.solveStep(mp.TimeStep(time=0,dt=.1,targetTime=1.,unit=mp.U.s))"
   ]
  },
  {
   "cell_type": "markdown",
   "id": "approximate-visitor",
   "metadata": {},
   "source": [
    "### Request thermal field\n",
    "- request the output variables (thermal field in our case) from solver using *get* (or *getField*) method (the fieldID is fieldID=mp.FieldID.FID_Temperature)\n",
    "- visualize field using *plot2d* method. Fields can be also exprorted to vtk"
   ]
  },
  {
   "cell_type": "code",
   "execution_count": 10,
   "id": "requested-filter",
   "metadata": {},
   "outputs": [
    {
     "name": "stderr",
     "output_type": "stream",
     "text": [
      "100%|██████████| 40/40 [00:00<00:00, 6909.89 cells/s]"
     ]
    },
    {
     "name": "stdout",
     "output_type": "stream",
     "text": [
      "[20.] C\n"
     ]
    },
    {
     "name": "stderr",
     "output_type": "stream",
     "text": [
      "\n"
     ]
    },
    {
     "data": {
      "image/png": "[encoded data removed]",
      "text/plain": [
       "<Figure size 432x288 with 2 Axes>"
      ]
     },
     "metadata": {
      "needs_background": "light"
     },
     "output_type": "display_data"
    }
   ],
   "source": [
    "# show the field\n",
    "f=thermalSolver.get(mp.DataID.FID_Temperature,time=1.*mp.Q.s)\n",
    "f.plot2D()\n",
    "print(f.evaluate((5,0,0)))"
   ]
  },
  {
   "cell_type": "markdown",
   "id": "mediterranean-introduction",
   "metadata": {},
   "source": [
    "### Map thermal field to mechanical solver\n",
    "- mapping the thermal field using mechanical model *set* method\n",
    "- solving (updating) mechanical problem"
   ]
  },
  {
   "cell_type": "code",
   "execution_count": 11,
   "id": "painted-savannah",
   "metadata": {},
   "outputs": [],
   "source": [
    "bc1 = mp.ConstantProperty(propID=mp.DataID.FID_Displacement, valueType=mp.ValueType.Scalar, value=(0,0), unit=mp.U['m'])\n",
    "mechanicalSolver.set(bc1, 'Dirichlet left')\n",
    "#mechanicalSolver.set(bc1, 'Dirichlet right')\n",
    "\n",
    "mechanicalSolver.set(f)\n",
    "mechanicalSolver.solveStep(mp.TimeStep(time=0,dt=.1,targetTime=1.,unit=mp.U.s))"
   ]
  },
  {
   "cell_type": "markdown",
   "id": "dangerous-worst",
   "metadata": {},
   "source": [
    "### Get outputs from mechanical problem\n",
    "- use getField to request displacement field\n",
    "- show displacement field (first component is defaul) on deformed configuration"
   ]
  },
  {
   "cell_type": "code",
   "execution_count": 12,
   "id": "promotional-schedule",
   "metadata": {},
   "outputs": [
    {
     "name": "stderr",
     "output_type": "stream",
     "text": [
      "100%|██████████| 160/160 [00:00<00:00, 6883.95 cells/s]\n"
     ]
    },
    {
     "data": {
      "image/png": "[encoded data removed]",
      "text/plain": [
       "<Figure size 432x288 with 2 Axes>"
      ]
     },
     "metadata": {
      "needs_background": "light"
     },
     "output_type": "display_data"
    }
   ],
   "source": [
    "f=mechanicalSolver.get(mp.DataID.FID_Displacement,time=1.*mp.Q.s)\n",
    "f.plot2D(warpField=f, warpScale=5.e2)"
   ]
  },
  {
   "cell_type": "code",
   "execution_count": 13,
   "id": "8f298f8f",
   "metadata": {},
   "outputs": [
    {
     "name": "stdout",
     "output_type": "stream",
     "text": [
      "-6.0\n"
     ]
    },
    {
     "data": {
      "image/png": "[encoded data removed]",
      "text/plain": [
       "<Figure size 432x288 with 2 Axes>"
      ]
     },
     "metadata": {
      "needs_background": "light"
     },
     "output_type": "display_data"
    },
    {
     "name": "stderr",
     "output_type": "stream",
     "text": [
      "100%|██████████| 160/160 [00:00<00:00, 10763.42 cells/s]\n"
     ]
    },
    {
     "data": {
      "image/png": "[encoded data removed]",
      "text/plain": [
       "<Figure size 432x288 with 2 Axes>"
      ]
     },
     "metadata": {
      "needs_background": "light"
     },
     "output_type": "display_data"
    }
   ],
   "source": [
    "import analyticalfield as af\n",
    "\n",
    "f = af.AnalyticalField(func=lambda x1,x2: 0.0-2*x1, fieldID=mp.DataID.FID_Temperature, unit=mp.U['K'])\n",
    "f.evaluate((0,2))\n",
    "f.plot2d()\n",
    "mechanicalSolver.set(f)\n",
    "mechanicalSolver.solveStep(mp.TimeStep(time=0,dt=.1,targetTime=1.,unit=mp.U.s))\n",
    "f=mechanicalSolver.get(mp.DataID.FID_Displacement,time=1.*mp.Q.s)\n",
    "f.plot2D(warpField=f, warpScale=5.e2)"
   ]
  },
  {
   "cell_type": "code",
   "execution_count": 14,
   "id": "23658474",
   "metadata": {},
   "outputs": [],
   "source": [
    "mio=f.toMeshioMesh()"
   ]
  },
  {
   "cell_type": "code",
   "execution_count": 15,
   "id": "5bb70607",
   "metadata": {},
   "outputs": [
    {
     "data": {
      "image/png": "[encoded data removed]",
      "text/plain": [
       "<PIL.Image.Image image mode=RGB size=1024x768 at 0x7FA78E7D0EE0>"
      ]
     },
     "metadata": {},
     "output_type": "display_data"
    }
   ],
   "source": [
    "import pyvista as pv\n",
    "pv.set_jupyter_backend('static')  \n",
    "p = pv.Plotter()\n",
    "\n",
    "mio=f.toMeshioMesh()\n",
    "cloud = pv.wrap(mio)\n",
    "warped = cloud.warp_by_vector(factor=100)\n",
    "#print(cloud, warped)\n",
    "p.add_mesh(warped, style='wireframe')\n",
    "p.add_mesh(cloud, style='wireframe')\n",
    "p.show(cpos=\"xy\")"
   ]
  },
  {
   "cell_type": "markdown",
   "id": "nuclear-doctrine",
   "metadata": {},
   "source": [
    "## Casting into workflow \n",
    "The above steps can be formalized into workflow represenation\n",
    "\n",
    "MuPIF Workflow is represented as a class derived from *Workflow* class\n",
    "- Workflow class inherits Model interface\n",
    "- Adds *solve* method to run the whole worklfow\n",
    "- Similar to models, workflows have to provide their medatadata as well\n",
    "\n",
    "The example of workflow implementation for this examle is located in <a href=\"tmworkflow.py\">tmworkflow module</a>\n"
   ]
  },
  {
   "cell_type": "code",
   "execution_count": 16,
   "id": "charged-border",
   "metadata": {},
   "outputs": [],
   "source": [
    "import tmworkflow\n",
    "workflow = tmworkflow.Example06()"
   ]
  },
  {
   "cell_type": "code",
   "execution_count": 17,
   "id": "liberal-orange",
   "metadata": {},
   "outputs": [
    {
     "name": "stderr",
     "output_type": "stream",
     "text": [
      "WARNING: UnitsWarning: 'W/m/K' contains multiple slashes, which is discouraged by the FITS standard [astropy.units.format.generic]\n",
      "16:40:46 [1704|MainThread] WARNING:logger.py:211 UnitsWarning: 'W/m/K' contains multiple slashes, which is discouraged by the FITS standard\n"
     ]
    },
    {
     "name": "stdout",
     "output_type": "stream",
     "text": [
      "Downloading the input file..\n",
      "Download finished.\n",
      "Downloading the input file..\n",
      "Download finished.\n",
      "Step 1: t=1 dt=1\n"
     ]
    },
    {
     "name": "stderr",
     "output_type": "stream",
     "text": [
      "100%|██████████| 50/50 [00:00<00:00, 11832.27 cells/s]\n"
     ]
    }
   ],
   "source": [
    "\n",
    "# define execution metadata, normally these are provided by scheduler\n",
    "# but as we execute workflow manually, we neeed to provide these\n",
    "md = {\n",
    "    'Execution': {\n",
    "        'ID': '1',\n",
    "        'Use_case_ID': '1_1',\n",
    "        'Task_ID': '1'\n",
    "    }\n",
    "}\n",
    "\n",
    "# initialize workflow\n",
    "workflow.initialize(metadata=md)# initialize workflow\n",
    "#set some BCs\n",
    "bc1 = mp.ConstantProperty(propID=mp.DataID.PID_Temperature, valueType=mp.ValueType.Scalar, value=(50,), unit=mp.U['K'])\n",
    "bc2 = mp.ConstantProperty(propID=mp.DataID.PID_Temperature, valueType=mp.ValueType.Scalar, value=(0,), unit=mp.U['K'])\n",
    "workflow.set(bc1, 'Cauchy top')\n",
    "workflow.set(bc2, 'Dirichlet left')\n",
    "workflow.set(bc2, 'Cauchy bottom')\n",
    "#solve\n",
    "workflow.solve()"
   ]
  },
  {
   "cell_type": "code",
   "execution_count": 18,
   "id": "digital-bowling",
   "metadata": {},
   "outputs": [
    {
     "data": {
      "image/png": "[encoded data removed]",
      "text/plain": [
       "<Figure size 432x288 with 2 Axes>"
      ]
     },
     "metadata": {
      "needs_background": "light"
     },
     "output_type": "display_data"
    }
   ],
   "source": [
    "ft=workflow.get(mp.DataID.FID_Temperature,time=1.*mp.Q.s)\n",
    "ft.plot2D()"
   ]
  },
  {
   "cell_type": "code",
   "execution_count": 19,
   "id": "mental-motel",
   "metadata": {},
   "outputs": [
    {
     "data": {
      "image/png": "[encoded data removed]",
      "text/plain": [
       "<Figure size 432x288 with 2 Axes>"
      ]
     },
     "metadata": {
      "needs_background": "light"
     },
     "output_type": "display_data"
    }
   ],
   "source": [
    "fd=mechanicalSolver.get(mp.DataID.FID_Displacement,time=1.*mp.Q.s)\n",
    "fd.plot2D(warpField=fd, warpScale=6.e2)"
   ]
  },
  {
   "cell_type": "code",
   "execution_count": null,
   "id": "linear-marijuana",
   "metadata": {},
   "outputs": [],
   "source": []
  }
 ],
 "metadata": {
  "kernelspec": {
   "display_name": "Python 3.8.10 64-bit",
   "language": "python",
   "name": "python3"
  },
  "language_info": {
   "codemirror_mode": {
    "name": "ipython",
    "version": 3
   },
   "file_extension": ".py",
   "mimetype": "text/x-python",
   "name": "python",
   "nbconvert_exporter": "python",
   "pygments_lexer": "ipython3",
   "version": "3.8.10"
  },
  "vscode": {
   "interpreter": {
    "hash": "916dbcbb3f70747c44a77c7bcd40155683ae19c65e1c03b4aa3499c5328201f1"
   }
  }
 },
 "nbformat": 4,
 "nbformat_minor": 5
}
